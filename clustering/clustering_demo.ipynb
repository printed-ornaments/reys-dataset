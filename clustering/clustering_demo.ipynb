{
 "cells": [
  {
   "cell_type": "code",
   "execution_count": null,
   "metadata": {},
   "outputs": [],
   "source": [
    "from evaluation.fleurons_eval import FleuronsClusterEval\n",
    "\n",
    "# Initialize evaluation class\n",
    "num_classes = 36\n",
    "fleurons_eval = FleuronsClusterEval(num_classes=num_classes)"
   ]
  },
  {
   "cell_type": "code",
   "execution_count": null,
   "metadata": {},
   "outputs": [],
   "source": [
    "# Load results from tsv file, provide ground truth id and cluster index headers. Defaults: 'id', 'cluster'.\n",
    "clus_results = \"./cluster_results.tsv\"\n",
    "fleurons_eval.load_from_tsv(results=clus_results, idx=\"id\", cluster=\"cluster\")"
   ]
  },
  {
   "cell_type": "code",
   "execution_count": null,
   "metadata": {},
   "outputs": [],
   "source": [
    "# Load results as numpy integer arrays.\n",
    "import numpy as np\n",
    "\n",
    "n_images = 100\n",
    "gt_labels = np.zeros(n_images, dtype=int)\n",
    "cluster_assignments = np.zeros(n_images, dtype=int)\n",
    "\n",
    "fleurons_eval.load_numpy(true_labels=gt_labels, cluster_assignments=cluster_assignments)"
   ]
  },
  {
   "cell_type": "code",
   "execution_count": null,
   "metadata": {},
   "outputs": [],
   "source": [
    "# Run evaluation\n",
    "fleurons_eval.evaluate()\n",
    "\n",
    "#Print summary\n",
    "fleurons_eval.summarize()"
   ]
  },
  {
   "cell_type": "code",
   "execution_count": null,
   "metadata": {},
   "outputs": [],
   "source": [
    "# Compute each metric individually\n",
    "acc = fleurons_eval.global_accuracy()\n",
    "print(f\"Global Accuracy\\t{acc:.3f}\")\n",
    "\n",
    "avg_acc = fleurons_eval.average_accuracy()\n",
    "print(f\"Average Accuracy\\t{avg_acc:.3f}\")\n",
    "\n",
    "nmi_score = fleurons_eval.nmi_score()\n",
    "print(f\"Normalized Mutual Info. Score\\t{nmi_score:.3f}\")"
   ]
  }
 ],
 "metadata": {
  "kernelspec": {
   "display_name": "simDet",
   "language": "python",
   "name": "python3"
  },
  "language_info": {
   "codemirror_mode": {
    "name": "ipython",
    "version": 3
   },
   "file_extension": ".py",
   "mimetype": "text/x-python",
   "name": "python",
   "nbconvert_exporter": "python",
   "pygments_lexer": "ipython3",
   "version": "3.9.15"
  },
  "orig_nbformat": 4
 },
 "nbformat": 4,
 "nbformat_minor": 2
}
