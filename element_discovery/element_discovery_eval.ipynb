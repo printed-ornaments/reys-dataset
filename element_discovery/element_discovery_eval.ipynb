{
  "cells": [
    {
      "cell_type": "code",
      "source": [
        "from google.colab import drive\n",
        "drive.mount(\"/content/gdrive/\")"
      ],
      "metadata": {
        "colab": {
          "base_uri": "https://localhost:8080/"
        },
        "id": "wW5ejuxMzoKq",
        "outputId": "61fb8236-68e7-4e3a-c76a-015e464deaa7"
      },
      "execution_count": 1,
      "outputs": [
        {
          "output_type": "stream",
          "name": "stdout",
          "text": [
            "Mounted at /content/gdrive/\n"
          ]
        }
      ]
    },
    {
      "cell_type": "code",
      "source": [
        "cd gdrive/MyDrive"
      ],
      "metadata": {
        "colab": {
          "base_uri": "https://localhost:8080/"
        },
        "id": "xLc94OI9z2Jq",
        "outputId": "9ed1e789-1d51-49e2-bd36-908e6b080b0d"
      },
      "execution_count": 3,
      "outputs": [
        {
          "output_type": "stream",
          "name": "stdout",
          "text": [
            "/content/gdrive/MyDrive\n"
          ]
        }
      ]
    },
    {
      "cell_type": "code",
      "execution_count": 4,
      "metadata": {
        "colab": {
          "base_uri": "https://localhost:8080/"
        },
        "id": "kFhg4nC-zmhF",
        "outputId": "c7c5aaff-7bbe-47ff-d4d8-9e8c564946d9"
      },
      "outputs": [
        {
          "output_type": "stream",
          "name": "stdout",
          "text": [
            "creating index...\n",
            "index created!\n",
            "creating index...\n",
            "index created!\n",
            "Annotations for Image 1: [{'id': 1, 'image_id': 1, 'category_id': 1, 'bbox': [28.0, 26.0, 111.0, 74.0], 'iscrowd': 0, 'area': 8214.0}, {'id': 2, 'image_id': 1, 'category_id': 2, 'bbox': [26.0, 100.0, 111.0, 167.0], 'iscrowd': 0, 'area': 18537.0}, {'id': 3, 'image_id': 1, 'category_id': 2, 'bbox': [27.0, 270.0, 114.0, 163.0], 'iscrowd': 0, 'area': 18582.0}, {'id': 4, 'image_id': 1, 'category_id': 1, 'bbox': [31.0, 432.0, 109.0, 75.0], 'iscrowd': 0, 'area': 8175.0}, {'id': 5, 'image_id': 1, 'category_id': 3, 'bbox': [179.0, 81.0, 77.0, 70.0], 'iscrowd': 0, 'area': 5390.0}, {'id': 6, 'image_id': 1, 'category_id': 4, 'bbox': [155.0, 152.0, 97.0, 68.0], 'iscrowd': 0, 'area': 6596.0}, {'id': 7, 'image_id': 1, 'category_id': 5, 'bbox': [155.0, 221.0, 101.0, 111.0], 'iscrowd': 0, 'area': 11211.0}, {'id': 8, 'image_id': 1, 'category_id': 4, 'bbox': [158.0, 333.0, 99.0, 69.0], 'iscrowd': 0, 'area': 6831.0}, {'id': 9, 'image_id': 1, 'category_id': 6, 'bbox': [184.0, 404.0, 75.0, 69.0], 'iscrowd': 0, 'area': 5175.0}, {'id': 10, 'image_id': 1, 'category_id': 3, 'bbox': [259.0, 110.0, 84.0, 67.0], 'iscrowd': 0, 'area': 5628.0}, {'id': 11, 'image_id': 1, 'category_id': 7, 'bbox': [261.0, 180.0, 131.0, 91.0], 'iscrowd': 0, 'area': 11921.0}, {'id': 12, 'image_id': 1, 'category_id': 7, 'bbox': [262.0, 278.0, 132.0, 85.0], 'iscrowd': 0, 'area': 11220.0}, {'id': 13, 'image_id': 1, 'category_id': 6, 'bbox': [266.0, 364.0, 80.0, 72.0], 'iscrowd': 0, 'area': 5760.0}, {'id': 14, 'image_id': 1, 'category_id': 8, 'bbox': [399.0, 238.0, 78.0, 76.0], 'iscrowd': 0, 'area': 5928.0}]\n",
            "Annotations for Image 1: [{'id': 1, 'image_id': 1, 'category_id': 1, 'bbox': [112.0, 48.0, 312.0, 300.0], 'iscrowd': 0, 'area': 93600.0, 'score': 0.9678432121872902}, {'id': 2, 'image_id': 1, 'category_id': 2, 'bbox': [56.0, 72.0, 124.0, 156.0], 'iscrowd': 0, 'area': 19344.0, 'score': 0.9711163751780987}, {'id': 3, 'image_id': 1, 'category_id': 3, 'bbox': [192.0, 276.0, 132.0, 128.0], 'iscrowd': 0, 'area': 16896.0, 'score': 0.9715999085456133}, {'id': 4, 'image_id': 1, 'category_id': 4, 'bbox': [128.0, 56.0, 44.0, 48.0], 'iscrowd': 0, 'area': 2112.0, 'score': 0.9719988014549017}, {'id': 5, 'image_id': 1, 'category_id': 5, 'bbox': [420.0, 384.0, 52.0, 52.0], 'iscrowd': 0, 'area': 2704.0, 'score': 0.9728247132152319}, {'id': 6, 'image_id': 1, 'category_id': 3, 'bbox': [396.0, 136.0, 104.0, 100.0], 'iscrowd': 0, 'area': 10400.0, 'score': 0.9745750594884157}, {'id': 7, 'image_id': 1, 'category_id': 6, 'bbox': [72.0, 428.0, 24.0, 24.0], 'iscrowd': 0, 'area': 576.0, 'score': 0.9754030462354422}, {'id': 8, 'image_id': 1, 'category_id': 4, 'bbox': [392.0, 244.0, 84.0, 92.0], 'iscrowd': 0, 'area': 7728.0, 'score': 0.9763573426753283}, {'id': 9, 'image_id': 1, 'category_id': 7, 'bbox': [252.0, 412.0, 28.0, 32.0], 'iscrowd': 0, 'area': 896.0, 'score': 0.9774295371025801}, {'id': 10, 'image_id': 1, 'category_id': 8, 'bbox': [40.0, 252.0, 48.0, 60.0], 'iscrowd': 0, 'area': 2880.0, 'score': 0.978153895586729}, {'id': 11, 'image_id': 1, 'category_id': 9, 'bbox': [204.0, 128.0, 136.0, 104.0], 'iscrowd': 0, 'area': 14144.0, 'score': 0.9789179470390081}, {'id': 12, 'image_id': 1, 'category_id': 10, 'bbox': [324.0, 336.0, 32.0, 44.0], 'iscrowd': 0, 'area': 1408.0, 'score': 0.9790709391236305}, {'id': 13, 'image_id': 1, 'category_id': 7, 'bbox': [64.0, 248.0, 56.0, 72.0], 'iscrowd': 0, 'area': 4032.0, 'score': 0.979668702930212}, {'id': 14, 'image_id': 1, 'category_id': 10, 'bbox': [432.0, 408.0, 24.0, 32.0], 'iscrowd': 0, 'area': 768.0, 'score': 0.9801901616156101}]\n"
          ]
        }
      ],
      "source": [
        "import json\n",
        "from pycocotools.coco import COCO\n",
        "from pycocotools.cocoeval import COCOeval\n",
        "\n",
        "\n",
        "class ElementDiscoveryEval(COCOeval):\n",
        "    def __init__(self, coco_gt, coco_dt):\n",
        "        super(ElementDiscoveryEval, self).__init__(coco_gt, coco_dt, \"bbox\")\n",
        "\n",
        "# Load results from tsv file, provide ground truth id and cluster index headers. Defaults: 'id', 'cluster'.\n",
        "gt = \"/content/gdrive/MyDrive/SAGPACE/coco_format_gt.json\"\n",
        "dt = \"/content/gdrive/MyDrive/SAGPACE/detections_tune-on-real_new.json\"\n",
        "\n",
        "# Read the JSON file containing the annotations\n",
        "with open(gt, 'r') as f:\n",
        "    annotations = json.load(f)\n",
        "\n",
        "# Convert annotations to COCO format\n",
        "coco_annotations = {\n",
        "    \"images\": [],\n",
        "    \"annotations\": [],\n",
        "    \"categories\": []\n",
        "}\n",
        "\n",
        "image_id_map = {}\n",
        "category_id_map = {}\n",
        "\n",
        "for annotation in annotations:\n",
        "    # Assuming each annotation contains 'image_id', 'category_id', 'bbox', and 'score'\n",
        "    image_id = annotation['image_id']\n",
        "    category_id = annotation['category_id']\n",
        "    bbox = annotation['bbox']\n",
        "\n",
        "    if image_id not in image_id_map:\n",
        "        # Add image to image map if not already present\n",
        "        image_id_map[image_id] = len(image_id_map) + 1\n",
        "        coco_annotations['images'].append({\"id\": image_id_map[image_id], \"file_name\": str(image_id) + \".jpg\"})\n",
        "\n",
        "    # Add category to category map if not already present\n",
        "    if category_id not in category_id_map:\n",
        "        category_id_map[category_id] = len(category_id_map) + 1\n",
        "        coco_annotations['categories'].append({\"id\": category_id_map[category_id], \"name\": str(category_id)})\n",
        "\n",
        "    coco_annotations['annotations'].append({\n",
        "        \"id\": len(coco_annotations['annotations']) + 1,\n",
        "        \"image_id\": image_id_map[image_id],\n",
        "        \"category_id\": category_id_map[category_id],\n",
        "        \"bbox\": bbox,\n",
        "        \"iscrowd\": 0,\n",
        "        'area': bbox[3] * bbox[2]\n",
        "    })\n",
        "\n",
        "# Create COCO instances\n",
        "coco_gt = COCO()\n",
        "coco_gt.dataset = coco_annotations\n",
        "coco_gt.createIndex()\n",
        "\n",
        "# Read the JSON file containing the annotations\n",
        "with open(dt, 'r') as f:\n",
        "    annotations = json.load(f)\n",
        "\n",
        "# Convert annotations to COCO format\n",
        "coco_annotations = {\n",
        "    \"images\": [],\n",
        "    \"annotations\": [],\n",
        "    \"categories\": []\n",
        "}\n",
        "\n",
        "image_id_map = {}\n",
        "category_id_map = {}\n",
        "\n",
        "# Check if data is a dictionary\n",
        "#print_keys(annotations)\n",
        "for annotation in annotations:\n",
        "    # Assuming each annotation contains 'image_id', 'category_id', 'bbox', and 'score'\n",
        "    image_id = annotation['img']\n",
        "    for anns in annotation['anns']:\n",
        "        category_id = anns['id']\n",
        "        bbox = anns['bbox']\n",
        "        score =  anns['score']\n",
        "\n",
        "        if image_id not in image_id_map:\n",
        "          # Add image to image map if not already present\n",
        "          image_id_map[image_id] = len(image_id_map) + 1\n",
        "          coco_annotations['images'].append({\"id\": image_id_map[image_id], \"file_name\": str(image_id) + \".jpg\"})\n",
        "\n",
        "        # Add category to category map if not already present\n",
        "        if category_id not in category_id_map:\n",
        "          category_id_map[category_id] = len(category_id_map) + 1\n",
        "          coco_annotations['categories'].append({\"id\": category_id_map[category_id], \"name\": str(category_id)})\n",
        "\n",
        "        coco_annotations['annotations'].append({\n",
        "          \"id\": len(coco_annotations['annotations']) + 1,\n",
        "          \"image_id\": image_id_map[image_id],\n",
        "          \"category_id\": category_id_map[category_id],\n",
        "          \"bbox\": bbox,\n",
        "          \"iscrowd\": 0,\n",
        "          'area': bbox[3] * bbox[2],\n",
        "          'score':score\n",
        "        })\n",
        "\n",
        "# Create COCO instances\n",
        "coco_dt = COCO()\n",
        "coco_dt.dataset = coco_annotations\n",
        "coco_dt.createIndex()\n",
        "\n",
        "# Example usage of COCO API\n",
        "# Get all category IDs\n",
        "category_ids = coco_gt.getCatIds()\n",
        "\n",
        "# Get all image IDs\n",
        "image_ids = coco_gt.getImgIds()\n",
        "\n",
        "# Get annotations for a specific image\n",
        "image_id = image_ids[0]\n",
        "annotations_ids = coco_gt.getAnnIds(imgIds=image_id)\n",
        "annotations = coco_gt.loadAnns(annotations_ids)\n",
        "print(\"Annotations for Image {}: {}\".format(image_id, annotations))\n",
        "annotations = coco_dt.loadAnns(annotations_ids)\n",
        "print(\"Annotations for Image {}: {}\".format(image_id, annotations))\n",
        "\n"
      ]
    },
    {
      "cell_type": "code",
      "source": [
        "def print_keys(data, indent=''):\n",
        "    if isinstance(data, dict):\n",
        "        for key, value in data.items():\n",
        "            print(indent + key)\n",
        "            if isinstance(value, dict):\n",
        "                print_keys(value, indent + '  ')\n",
        "            elif isinstance(value, list):\n",
        "                for item in value:\n",
        "                    print_keys(item, indent + '  ')\n",
        "    elif isinstance(data, list):\n",
        "        for item in data:\n",
        "            print_keys(item, indent + '  ')"
      ],
      "metadata": {
        "id": "LNpH0ojn1ddX"
      },
      "execution_count": 5,
      "outputs": []
    },
    {
      "cell_type": "code",
      "execution_count": 6,
      "metadata": {
        "colab": {
          "base_uri": "https://localhost:8080/"
        },
        "id": "5ch_hrJ_zmhI",
        "outputId": "6ed25baa-aeb3-4686-fc18-cb6896d1ae72"
      },
      "outputs": [
        {
          "output_type": "stream",
          "name": "stdout",
          "text": [
            "Running per image evaluation...\n",
            "Evaluate annotation type *bbox*\n",
            "DONE (t=0.48s).\n",
            "Accumulating evaluation results...\n",
            "DONE (t=0.33s).\n",
            " Average Precision  (AP) @[ IoU=0.50:0.95 | area=   all | maxDets=100 ] = 0.000\n",
            " Average Precision  (AP) @[ IoU=0.50      | area=   all | maxDets=100 ] = 0.000\n",
            " Average Precision  (AP) @[ IoU=0.75      | area=   all | maxDets=100 ] = 0.000\n",
            " Average Precision  (AP) @[ IoU=0.50:0.95 | area= small | maxDets=100 ] = 0.000\n",
            " Average Precision  (AP) @[ IoU=0.50:0.95 | area=medium | maxDets=100 ] = 0.000\n",
            " Average Precision  (AP) @[ IoU=0.50:0.95 | area= large | maxDets=100 ] = 0.000\n",
            " Average Recall     (AR) @[ IoU=0.50:0.95 | area=   all | maxDets=  1 ] = 0.000\n",
            " Average Recall     (AR) @[ IoU=0.50:0.95 | area=   all | maxDets= 10 ] = 0.000\n",
            " Average Recall     (AR) @[ IoU=0.50:0.95 | area=   all | maxDets=100 ] = 0.000\n",
            " Average Recall     (AR) @[ IoU=0.50:0.95 | area= small | maxDets=100 ] = 0.000\n",
            " Average Recall     (AR) @[ IoU=0.50:0.95 | area=medium | maxDets=100 ] = 0.000\n",
            " Average Recall     (AR) @[ IoU=0.50:0.95 | area= large | maxDets=100 ] = 0.000\n"
          ]
        }
      ],
      "source": [
        "# Run evaluation\n",
        "# Initialize evaluation class\n",
        "fleurons_eval = ElementDiscoveryEval(coco_dt=coco_dt, coco_gt=coco_gt)\n",
        "fleurons_eval.evaluate()\n",
        "\n",
        "#Print summary\n",
        "fleurons_eval.accumulate()\n",
        "fleurons_eval.summarize()\n"
      ]
    },
    {
      "cell_type": "code",
      "source": [],
      "metadata": {
        "id": "fjv12Y6Vd5oL"
      },
      "execution_count": null,
      "outputs": []
    }
  ],
  "metadata": {
    "kernelspec": {
      "display_name": "Python 3 (ipykernel)",
      "language": "python",
      "name": "python3"
    },
    "language_info": {
      "codemirror_mode": {
        "name": "ipython",
        "version": 3
      },
      "file_extension": ".py",
      "mimetype": "text/x-python",
      "name": "python",
      "nbconvert_exporter": "python",
      "pygments_lexer": "ipython3",
      "version": "3.8.10"
    },
    "colab": {
      "provenance": []
    }
  },
  "nbformat": 4,
  "nbformat_minor": 0
}
